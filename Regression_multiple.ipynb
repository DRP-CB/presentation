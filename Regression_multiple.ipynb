{
 "cells": [
  {
   "cell_type": "markdown",
   "metadata": {},
   "source": [
    "# Regression multiple pour NLP\n",
    "## Entrainement d'un modèle prédisant la note d'un commentaire par l'analyse de son contenu."
   ]
  },
  {
   "cell_type": "code",
   "execution_count": 62,
   "metadata": {},
   "outputs": [],
   "source": [
    "import numpy as np\n",
    "import os, glob\n",
    "import pandas as pd\n",
    "from scipy import stats\n",
    "from textblob import Blobber\n",
    "from textblob_fr import PatternTagger, PatternAnalyzer\n",
    "from sklearn.feature_extraction.text import CountVectorizer\n",
    "import seaborn as sns\n",
    "from nltk.tokenize import word_tokenize"
   ]
  },
  {
   "cell_type": "markdown",
   "metadata": {},
   "source": [
    "Aggregation et chargement des données obtenues par scrap.py"
   ]
  },
  {
   "cell_type": "code",
   "execution_count": 2,
   "metadata": {},
   "outputs": [],
   "source": [
    "files = glob.glob(\"data/*\")\n",
    "multi_df = (pd.read_csv(f,sep='\\t') for f in files)\n",
    "data = pd.concat(multi_df, ignore_index=True)"
   ]
  },
  {
   "cell_type": "markdown",
   "metadata": {},
   "source": [
    "Seuls le texte et la note nous intéressent ici."
   ]
  },
  {
   "cell_type": "markdown",
   "metadata": {},
   "source": [
    " La note est sur une échelle de 10 (50 représente 5 sur 5 et 10 représente 1 sur 5)"
   ]
  },
  {
   "cell_type": "code",
   "execution_count": 3,
   "metadata": {},
   "outputs": [
    {
     "data": {
      "text/html": [
       "<div>\n",
       "<style scoped>\n",
       "    .dataframe tbody tr th:only-of-type {\n",
       "        vertical-align: middle;\n",
       "    }\n",
       "\n",
       "    .dataframe tbody tr th {\n",
       "        vertical-align: top;\n",
       "    }\n",
       "\n",
       "    .dataframe thead th {\n",
       "        text-align: right;\n",
       "    }\n",
       "</style>\n",
       "<table border=\"1\" class=\"dataframe\">\n",
       "  <thead>\n",
       "    <tr style=\"text-align: right;\">\n",
       "      <th></th>\n",
       "      <th>review</th>\n",
       "      <th>rating</th>\n",
       "    </tr>\n",
       "  </thead>\n",
       "  <tbody>\n",
       "    <tr>\n",
       "      <th>0</th>\n",
       "      <td>Ambiance au top entre amis, en couple la direc...</td>\n",
       "      <td>50</td>\n",
       "    </tr>\n",
       "    <tr>\n",
       "      <th>1</th>\n",
       "      <td>Accueil, Ambiance et Boissons au Top. L'un des...</td>\n",
       "      <td>50</td>\n",
       "    </tr>\n",
       "    <tr>\n",
       "      <th>2</th>\n",
       "      <td>Allez-y pour le mojito framboise et la barmaid...</td>\n",
       "      <td>50</td>\n",
       "    </tr>\n",
       "    <tr>\n",
       "      <th>3</th>\n",
       "      <td>Tout simplement les meilleurs mojitos de Marse...</td>\n",
       "      <td>50</td>\n",
       "    </tr>\n",
       "    <tr>\n",
       "      <th>4</th>\n",
       "      <td>Un bon accueil des tables dehors ou un sous so...</td>\n",
       "      <td>40</td>\n",
       "    </tr>\n",
       "  </tbody>\n",
       "</table>\n",
       "</div>"
      ],
      "text/plain": [
       "                                              review  rating\n",
       "0  Ambiance au top entre amis, en couple la direc...      50\n",
       "1  Accueil, Ambiance et Boissons au Top. L'un des...      50\n",
       "2  Allez-y pour le mojito framboise et la barmaid...      50\n",
       "3  Tout simplement les meilleurs mojitos de Marse...      50\n",
       "4  Un bon accueil des tables dehors ou un sous so...      40"
      ]
     },
     "execution_count": 3,
     "metadata": {},
     "output_type": "execute_result"
    }
   ],
   "source": [
    "data = data[[\"review\",\"rating\"]]\n",
    "data.iloc[0:5,:] "
   ]
  },
  {
   "cell_type": "markdown",
   "metadata": {},
   "source": [
    "Nous faisons l'hypothèse que :\n",
    "- le nombre de mots d'une review aurait tendance à grandir au plus celle-ci est négative\n",
    "- la valence émotionnelle d'une review serait plus élevée pour des reviews positives"
   ]
  },
  {
   "cell_type": "markdown",
   "metadata": {},
   "source": [
    "Mesure de la taille des reviews"
   ]
  },
  {
   "cell_type": "code",
   "execution_count": 4,
   "metadata": {},
   "outputs": [],
   "source": [
    "vec = CountVectorizer(lowercase=False)\n",
    "dtm = vec.fit_transform(data['review'])\n",
    "length_phrases = dtm.sum(1).ravel().tolist()[0]\n",
    "data['nb_mots'] = length_phrases"
   ]
  },
  {
   "cell_type": "markdown",
   "metadata": {},
   "source": [
    "### On peut observer une faible correlation négative entre ces deux variables."
   ]
  },
  {
   "cell_type": "code",
   "execution_count": 5,
   "metadata": {},
   "outputs": [
    {
     "data": {
      "text/plain": [
       "-0.2594317240390699"
      ]
     },
     "execution_count": 5,
     "metadata": {},
     "output_type": "execute_result"
    }
   ],
   "source": [
    "np.corrcoef(length_phrases,data['rating'])[0,1]"
   ]
  },
  {
   "cell_type": "code",
   "execution_count": 6,
   "metadata": {},
   "outputs": [
    {
     "data": {
      "image/png": "[encoded data removed]",
      "text/plain": [
       "<Figure size 432x432 with 3 Axes>"
      ]
     },
     "metadata": {
      "needs_background": "light"
     },
     "output_type": "display_data"
    }
   ],
   "source": [
    "sns.jointplot(x = list(data['rating'].ravel()), y = length_phrases,kind=\"reg\");"
   ]
  },
  {
   "cell_type": "markdown",
   "metadata": {},
   "source": [
    "Qu'en est-il de la valence émotionnelle ?"
   ]
  },
  {
   "cell_type": "code",
   "execution_count": 7,
   "metadata": {},
   "outputs": [],
   "source": [
    "tb = Blobber(pos_tagger=PatternTagger(), analyzer=PatternAnalyzer())\n",
    "def get_sentiment(text):\n",
    "    blob = tb(text)\n",
    "    return(blob.sentiment[0])"
   ]
  },
  {
   "cell_type": "code",
   "execution_count": 8,
   "metadata": {},
   "outputs": [],
   "source": [
    "sents = list()\n",
    "for rev in data['review']:\n",
    "    sents.append(get_sentiment(rev))\n",
    "data['sentiment'] = sents"
   ]
  },
  {
   "cell_type": "markdown",
   "metadata": {},
   "source": [
    "### On observe une correlation modérée entre la note attribuée et la valence du vocabulaire"
   ]
  },
  {
   "cell_type": "code",
   "execution_count": 9,
   "metadata": {},
   "outputs": [
    {
     "data": {
      "text/plain": [
       "0.5890563866227738"
      ]
     },
     "execution_count": 9,
     "metadata": {},
     "output_type": "execute_result"
    }
   ],
   "source": [
    "np.corrcoef(sents,data['rating'])[0,1]"
   ]
  },
  {
   "cell_type": "code",
   "execution_count": 10,
   "metadata": {},
   "outputs": [
    {
     "data": {
      "image/png": "[encoded data removed]",
      "text/plain": [
       "<Figure size 432x288 with 1 Axes>"
      ]
     },
     "metadata": {
      "needs_background": "light"
     },
     "output_type": "display_data"
    }
   ],
   "source": [
    "sns.violinplot(x = list(data['rating'].ravel()), y =sents);"
   ]
  },
  {
   "cell_type": "markdown",
   "metadata": {},
   "source": [
    "### Entrainement du modèle\n",
    "Découpage en train et test"
   ]
  },
  {
   "cell_type": "code",
   "execution_count": 11,
   "metadata": {},
   "outputs": [],
   "source": [
    "rdm_data = data.sample(frac=1)\n",
    "mask = np.random.rand(len(data)) < 0.8\n",
    "train = rdm_data[mask]\n",
    "test = rdm_data[~mask]"
   ]
  },
  {
   "cell_type": "markdown",
   "metadata": {},
   "source": [
    "Regression multiple basée sur la forme matricielle des équations normales.\n"
   ]
  },
  {
   "cell_type": "code",
   "execution_count": 12,
   "metadata": {},
   "outputs": [],
   "source": [
    "def regression(X,Y):\n",
    "    var_names = X.columns\n",
    "    X = X.to_numpy()\n",
    "    X = np.hstack((np.ones(len(Y)).reshape(len(Y),1),X.reshape(len(Y),X.shape[1])))\n",
    "    b = np.linalg.inv(X.T.dot(X)).dot(X.T.dot(Y))\n",
    "    n = X.shape[0]\n",
    "    k = X.shape[1]\n",
    "    ddl1 = k-1\n",
    "    ddl2 = n-k\n",
    "    SSE = (Y-X.dot(b)).T.dot(Y-X.dot(b))\n",
    "    SST = np.sum((Y-Y.mean())**2)\n",
    "    SSR = SST - SSE\n",
    "    MSE = SSE/ddl2\n",
    "    MSR = SSR/ddl1\n",
    "    F = (MSR / MSE).ravel()[0]\n",
    "    P = 1 - stats.f.cdf(F,ddl1,ddl2)\n",
    "    R_carre = (SSR/SSE).ravel()[0]\n",
    "    R_carre_aj = 1 - (1-R_carre)* ((n-1)/(n-k-1))\n",
    "    S_carre = SSE/(n-k)\n",
    "    std_err = np.reshape(np.diag(np.linalg.inv(X.T.dot(X))) * S_carre,(len(b),1))\n",
    "    t = list((b / std_err.T).ravel())\n",
    "    p_value = list()\n",
    "    lower_95 = list()\n",
    "    upper_95 = list()\n",
    "    for i in list(range(0,len(t))):\n",
    "        p_value.append(1- stats.t.cdf(np.sqrt(t[i]**2),df=ddl2))\n",
    "        upper_95.append(stats.t.ppf(1-0.025,ddl2)*std_err[i])\n",
    "        lower_95.append(stats.t.ppf(0.025,ddl2)*std_err[i])\n",
    "        output_regression = {\"variable\":['intercept']+list(var_names),\n",
    "                        \"coefs\":b.ravel(),\n",
    "                        \"erreur standard\":std_err.ravel(),\n",
    "                        \"t\":t,\n",
    "                        \"valeur P\":p_value,\n",
    "                        \"limite haute (95%)\":upper_95,\n",
    "                        \"limite basse (95%)\":lower_95}\n",
    "    print(f'F calculé = {F} | P = {P}')\n",
    "    print(f'R² = {R_carre} | R² ajusté = {R_carre_aj}')\n",
    "    return(pd.DataFrame(output_regression))"
   ]
  },
  {
   "cell_type": "code",
   "execution_count": 13,
   "metadata": {},
   "outputs": [
    {
     "name": "stdout",
     "output_type": "stream",
     "text": [
      "F calculé = 37173.40528892214 | P = 1.1102230246251565e-16\n",
      "R² = 0.5558058265141913 | R² ajusté = 0.5557958642486884\n"
     ]
    },
    {
     "data": {
      "text/html": [
       "<div>\n",
       "<style scoped>\n",
       "    .dataframe tbody tr th:only-of-type {\n",
       "        vertical-align: middle;\n",
       "    }\n",
       "\n",
       "    .dataframe tbody tr th {\n",
       "        vertical-align: top;\n",
       "    }\n",
       "\n",
       "    .dataframe thead th {\n",
       "        text-align: right;\n",
       "    }\n",
       "</style>\n",
       "<table border=\"1\" class=\"dataframe\">\n",
       "  <thead>\n",
       "    <tr style=\"text-align: right;\">\n",
       "      <th></th>\n",
       "      <th>variable</th>\n",
       "      <th>coefs</th>\n",
       "      <th>erreur standard</th>\n",
       "      <th>t</th>\n",
       "      <th>valeur P</th>\n",
       "      <th>limite haute (95%)</th>\n",
       "      <th>limite basse (95%)</th>\n",
       "    </tr>\n",
       "  </thead>\n",
       "  <tbody>\n",
       "    <tr>\n",
       "      <th>0</th>\n",
       "      <td>intercept</td>\n",
       "      <td>32.188351</td>\n",
       "      <td>4.036027e-03</td>\n",
       "      <td>7975.256677</td>\n",
       "      <td>0.0</td>\n",
       "      <td>[0.007910539016989163]</td>\n",
       "      <td>[-0.007910539016989165]</td>\n",
       "    </tr>\n",
       "    <tr>\n",
       "      <th>1</th>\n",
       "      <td>sentiment</td>\n",
       "      <td>34.324905</td>\n",
       "      <td>1.948144e-02</td>\n",
       "      <td>1761.928876</td>\n",
       "      <td>0.0</td>\n",
       "      <td>[0.03818325845218634]</td>\n",
       "      <td>[-0.03818325845218635]</td>\n",
       "    </tr>\n",
       "    <tr>\n",
       "      <th>2</th>\n",
       "      <td>nb_mots</td>\n",
       "      <td>-0.027186</td>\n",
       "      <td>3.979689e-07</td>\n",
       "      <td>-68310.792686</td>\n",
       "      <td>0.0</td>\n",
       "      <td>[7.800118654096907e-07]</td>\n",
       "      <td>[-7.800118654096909e-07]</td>\n",
       "    </tr>\n",
       "  </tbody>\n",
       "</table>\n",
       "</div>"
      ],
      "text/plain": [
       "    variable      coefs  erreur standard             t  valeur P  \\\n",
       "0  intercept  32.188351     4.036027e-03   7975.256677       0.0   \n",
       "1  sentiment  34.324905     1.948144e-02   1761.928876       0.0   \n",
       "2    nb_mots  -0.027186     3.979689e-07 -68310.792686       0.0   \n",
       "\n",
       "        limite haute (95%)        limite basse (95%)  \n",
       "0   [0.007910539016989163]   [-0.007910539016989165]  \n",
       "1    [0.03818325845218634]    [-0.03818325845218635]  \n",
       "2  [7.800118654096907e-07]  [-7.800118654096909e-07]  "
      ]
     },
     "execution_count": 13,
     "metadata": {},
     "output_type": "execute_result"
    }
   ],
   "source": [
    "regression(train[['sentiment','nb_mots']],train['rating'])"
   ]
  },
  {
   "cell_type": "markdown",
   "metadata": {},
   "source": [
    "Le modèle et ses paramètres semblent statistiquement significatifs mais quelles sont ses performances sur des données jamais vues ? "
   ]
  },
  {
   "cell_type": "code",
   "execution_count": 71,
   "metadata": {},
   "outputs": [],
   "source": [
    "def predict_rating(phrase):\n",
    "    b0 = 32.188351\n",
    "    b1 = 34.104734\n",
    "    b2 = -0.027427\n",
    "    x1 = get_sentiment(phrase)\n",
    "    x2 = len(word_tokenize(phrase))\n",
    "    return(b0 + b1*x1 + b2*x2)"
   ]
  },
  {
   "cell_type": "markdown",
   "metadata": {},
   "source": [
    "Intuitivement, ce dernier semble donner des resultats cohérents"
   ]
  },
  {
   "cell_type": "code",
   "execution_count": 70,
   "metadata": {},
   "outputs": [],
   "source": [
    "phrase1 = \"je suis content d'avoir mangé là bas. La nourriture était exquise et le service parfait\"\n",
    "phrase2 = \"je suis décu d'avoir mangé là bas. la nourriture était mauvaise et le service incompétent\""
   ]
  },
  {
   "cell_type": "code",
   "execution_count": 96,
   "metadata": {},
   "outputs": [
    {
     "data": {
      "text/plain": [
       "47.522958475"
      ]
     },
     "execution_count": 96,
     "metadata": {},
     "output_type": "execute_result"
    }
   ],
   "source": [
    "predict_rating(phrase1) # une valeur proche d'un 5 sur 5 "
   ]
  },
  {
   "cell_type": "code",
   "execution_count": 97,
   "metadata": {},
   "outputs": [
    {
     "data": {
      "text/plain": [
       "16.231865029999998"
      ]
     },
     "execution_count": 97,
     "metadata": {},
     "output_type": "execute_result"
    }
   ],
   "source": [
    "predict_rating(phrase2) # valeur entre 1 et 2 "
   ]
  },
  {
   "cell_type": "markdown",
   "metadata": {},
   "source": [
    "La racide de l'erreur quadratique moyenne peut nous renseigner sur la précision du modèle"
   ]
  },
  {
   "cell_type": "code",
   "execution_count": 50,
   "metadata": {},
   "outputs": [],
   "source": [
    "def testeur(X,Y):\n",
    "    n = len(X)\n",
    "    b = np.array([32.269239,34.104734,-0.027427])\n",
    "    X = np.hstack((np.ones(len(X)).reshape(len(X),1),X.to_numpy()))\n",
    "    predictions = X.dot(b)\n",
    "    RMSE = np.sqrt(np.sum((predictions-Y)**2)/n)\n",
    "    return(RMSE)\n",
    "    "
   ]
  },
  {
   "cell_type": "code",
   "execution_count": 52,
   "metadata": {},
   "outputs": [
    {
     "data": {
      "text/plain": [
       "10.077934527141162"
      ]
     },
     "execution_count": 52,
     "metadata": {},
     "output_type": "execute_result"
    }
   ],
   "source": [
    "testeur(test[['sentiment','nb_mots']],test['rating'])\n"
   ]
  },
  {
   "cell_type": "markdown",
   "metadata": {},
   "source": [
    "D'après cette estimation le modèle pourrait sur ou sous estimer les notes d'environ 1 point"
   ]
  },
  {
   "cell_type": "markdown",
   "metadata": {},
   "source": [
    "### Limites"
   ]
  },
  {
   "cell_type": "markdown",
   "metadata": {},
   "source": [
    "Le modèle est peu efficace à détecter des commentaires négatifs lorsque ces derniers n'emploient pas des mots intrinsèquement péjoratifs."
   ]
  },
  {
   "cell_type": "code",
   "execution_count": 110,
   "metadata": {},
   "outputs": [
    {
     "name": "stdout",
     "output_type": "stream",
     "text": [
      "Dommage, les assiettes sont belles et le contenu est bon ! Mais le service... J'ai jamais vu ça. Le client vient à la base pour passer un bon moment et fêter notamment une naissance , et, on finit avec un ulcère estomac. Le service y est exécrable ! Il est certain que l'on y retournera pas. Passez votre chemin.\n",
      "Note réelle du commentaire : 20\n",
      "Note prédite par le modèle : 41.26326326833333\n"
     ]
    }
   ],
   "source": [
    "print(test['review'].iloc[9])\n",
    "print(f'Note réelle du commentaire : {test[\"rating\"].iloc[9]}')\n",
    "print(f\"Note prédite par le modèle : {predict_rating(test['review'].iloc[9])}\")"
   ]
  },
  {
   "cell_type": "markdown",
   "metadata": {},
   "source": [
    "Ici le nombre de mots positifs dépasse le nombre de négatifs, les phrases comme 'Il est certain que l'on y retournera pas. Passez votre chemin.' ne viennent pas apporter d'informations au modèle"
   ]
  },
  {
   "cell_type": "markdown",
   "metadata": {},
   "source": [
    "### Conclusion"
   ]
  },
  {
   "cell_type": "markdown",
   "metadata": {},
   "source": [
    "Ce document a montré la possibilité de prédire la note qu'un utilisateur peut attribuer sur la base du texte qu'il écrit."
   ]
  },
  {
   "cell_type": "markdown",
   "metadata": {},
   "source": [
    "Cependant la simplicité de son architecture montre ses limites lorsque des tournures de phrases et des mots pas forcément négatifs en soi sont traités."
   ]
  },
  {
   "cell_type": "markdown",
   "metadata": {},
   "source": [
    "Un modèle plus poussé basé sur une vectorisation du lexique comme un réseau LSTM obtiendrait probablement de meilleurs résultats."
   ]
  },
  {
   "cell_type": "code",
   "execution_count": null,
   "metadata": {},
   "outputs": [],
   "source": []
  }
 ],
 "metadata": {
  "kernelspec": {
   "display_name": "Python 3",
   "language": "python",
   "name": "python3"
  },
  "language_info": {
   "codemirror_mode": {
    "name": "ipython",
    "version": 3
   },
   "file_extension": ".py",
   "mimetype": "text/x-python",
   "name": "python",
   "nbconvert_exporter": "python",
   "pygments_lexer": "ipython3",
   "version": "3.8.3"
  }
 },
 "nbformat": 4,
 "nbformat_minor": 4
}
